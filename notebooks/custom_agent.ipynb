{
 "cells": [
  {
   "cell_type": "code",
   "execution_count": 1,
   "metadata": {},
   "outputs": [],
   "source": [
    "from langchain_core.prompts import ChatPromptTemplate\n",
    "from langchain_community.utilities import SQLDatabase\n",
    "from langchain_core.output_parsers import StrOutputParser\n",
    "from langchain_core.runnables import RunnablePassthrough\n",
    "from langchain_openai import ChatOpenAI\n",
    "\n",
    "from langchain.prompts import PromptTemplate\n",
    "from langchain_openai import OpenAI\n",
    "from langchain.chains import LLMChain\n",
    "from langchain.prompts import PromptTemplate\n",
    "from langchain.pydantic_v1 import BaseModel, Field\n",
    "from langchain.tools import BaseTool, StructuredTool, tool\n",
    " \n",
    "from dotenv import load_dotenv\n",
    "import os"
   ]
  },
  {
   "cell_type": "code",
   "execution_count": 2,
   "metadata": {},
   "outputs": [],
   "source": [
    "# Check if .env file exists\n",
    "if os.path.exists('.env'):\n",
    "    load_dotenv() \n",
    "    \n",
    "os.environ[\"OPENAI_API_KEY\"] = os.environ.get(\"OPENAI_ACCESS_TOKEN\")"
   ]
  },
  {
   "cell_type": "code",
   "execution_count": 77,
   "metadata": {},
   "outputs": [],
   "source": [
    "def get_schema(_):\n",
    "    db_shema = \"\"\"\n",
    "    \n",
    "    CREATE TABLE xero_accounts (\n",
    "    \"_id\" text NOT NULL,\n",
    "    \"_sdc_batched_at\" timestamptz NULL,\n",
    "    \"_sdc_extracted_at\" timestamptz NULL,\n",
    "    \"_sdc_received_at\" timestamptz NULL,\n",
    "    \"_sdc_sequence\" int8 NULL,\n",
    "    \"_sdc_table_version\" int8 NULL,\n",
    "    account_id text NULL,\n",
    "    add_to_watchlist bool NULL,\n",
    "    bank_account_number text NULL,\n",
    "    bank_account_type text NULL,\n",
    "    \"class\" text NULL values: Expense and Others\n",
    "    code text NULL,\n",
    "    currency_code text NULL,\n",
    "    enable_payments_to_account bool NULL,\n",
    "    form_account_id text NULL,\n",
    "    has_attachments bool NULL,\n",
    "    \"name\" text NULL,\n",
    "    reporting_code text NULL,\n",
    "    reporting_code_name text NULL,\n",
    "    show_in_expense_claims bool NULL,\n",
    "    status text NULL,\n",
    "    system_account text NULL,\n",
    "    tax_type text NULL,\n",
    "    \"type\" text NULL,\n",
    "    updated_date_utc text NULL,\n",
    "    CONSTRAINT xero_accounts_pkey PRIMARY KEY (\"_id\")\n",
    "    );\n",
    "    CREATE TABLE transactions (\n",
    "    \"_id\" text NOT NULL,\n",
    "    \"_sdc_batched_at\" timestamptz NULL,\n",
    "    \"_sdc_extracted_at\" timestamptz NULL,\n",
    "    \"_sdc_received_at\" timestamptz NULL,\n",
    "    \"_sdc_sequence\" int8 NULL,\n",
    "    \"_sdc_table_version\" int8 NULL,\n",
    "    account_id text NULL,\n",
    "    bank_account_code text NULL,\n",
    "    bank_account_id text NULL,\n",
    "    bank_account_name text NULL,\n",
    "    bank_transaction_id text NULL,\n",
    "    contact_id text NULL,\n",
    "    contact_name text NULL,\n",
    "    currency_code text NULL,\n",
    "    \"date\" timestamptz NULL,\n",
    "    is_reconciled bool NULL,\n",
    "    line_amount_types text NULL,\n",
    "    reference text NULL,\n",
    "    status text NULL,\n",
    "    sub_total float8 NULL,\n",
    "    total float8 NULL,\n",
    "    total_tax float8 NULL,\n",
    "    \"type\" text NULL,\n",
    "    updated_utc timestamptz NULL,\n",
    "    CONSTRAINT transactions_pkey PRIMARY KEY (\"_id\")\n",
    "    );\n",
    "    CREATE TABLE transactions__line_items (\n",
    "    \"_sdc_batched_at\" timestamptz NULL,\n",
    "    \"_sdc_level_0_id\" int8 NOT NULL,\n",
    "    \"_sdc_received_at\" timestamptz NULL,\n",
    "    \"_sdc_sequence\" int8 NULL,\n",
    "    \"_sdc_source_key__id\" text NOT NULL,\n",
    "    \"_sdc_table_version\" int8 NULL,\n",
    "    account_code text NULL,\n",
    "    account_id text NULL,\n",
    "    description text NULL,\n",
    "    line_amount float8 NULL,\n",
    "    line_item_id text NULL,\n",
    "    quantity float8 NULL,\n",
    "    tax_amount float8 NULL,\n",
    "    tax_type text NULL,\n",
    "    unit_amount float8 NULL,\n",
    "    CONSTRAINT transactions__line_items_pkey PRIMARY KEY\n",
    "    (\"_sdc_level_0_id\",\"_sdc_source_key__id\")\n",
    "    );\n",
    "        \n",
    "    \"\"\"\n",
    "    return db_shema"
   ]
  },
  {
   "cell_type": "code",
   "execution_count": 92,
   "metadata": {},
   "outputs": [],
   "source": []
  },
  {
   "cell_type": "code",
   "execution_count": null,
   "metadata": {},
   "outputs": [],
   "source": []
  },
  {
   "cell_type": "code",
   "execution_count": 111,
   "metadata": {},
   "outputs": [
    {
     "data": {
      "text/plain": [
       "\"```sql\\nSELECT x.name AS account_name, SUM(t.total) AS total_expense\\nFROM xero_accounts x\\nJOIN transactions t ON x.account_id = t.account_id\\nWHERE x.account_id = 'your_account_id_here'\\nAND t.date >= 'start_date_here' AND t.date <= 'end_date_here'\\nAND t.type = 'Expense'\\nGROUP BY x.name;\\n```\""
      ]
     },
     "execution_count": 111,
     "metadata": {},
     "output_type": "execute_result"
    }
   ],
   "source": [
    "llm = ChatOpenAI()\n",
    "\n",
    "from langchain_core.prompts import (\n",
    "    ChatPromptTemplate,\n",
    "    FewShotPromptTemplate,\n",
    "    MessagesPlaceholder,\n",
    "    PromptTemplate,\n",
    "    SystemMessagePromptTemplate,\n",
    ")\n",
    "\n",
    "sql_prompt = \"\"\"\n",
    "\n",
    "You are an agent designed return correct usable SQL queries.\n",
    "Given an input question, create a syntactically correct SQLite query only.\n",
    "You DONOT have access for interacting with the database, so ALWAYS REMEMBER to return just the SQL queries.\n",
    "You MUST double check your query to ensure it is correct. If you get an error while executing a query, rewrite the query and try again.\n",
    "\n",
    "If the question does not seem related to the table schema in the database, just return \"I don't know\" as the answer.\n",
    "\n",
    "Based on the table schema below, write a SQL query that would answer the user's question:\n",
    "{schema}\n",
    "\n",
    "Question: {input}\n",
    "SQL Query:\"\"\"\n",
    "\n",
    "sql_prompt_template=PromptTemplate.from_template(\n",
    "    sql_prompt\n",
    ")\n",
    "\n",
    "full_sql_prompt = ChatPromptTemplate.from_messages(\n",
    "    [\n",
    "        SystemMessagePromptTemplate(prompt=sql_prompt_template),\n",
    "        (\"human\", \"{input}\"),\n",
    "        MessagesPlaceholder(\"agent_scratchpad\"),\n",
    "    ]\n",
    ")\n",
    "\n",
    "sql_response = (\n",
    "    RunnablePassthrough.assign(schema=get_schema)\n",
    "    | full_sql_prompt\n",
    "    | llm.bind(stop=[\"\\nSQLResult:\"])\n",
    "    | StrOutputParser()\n",
    "    )\n",
    "\n",
    "question = \"\"\"Can you share the total expenses for a given account_id in a given date range. The output\n",
    "should include account name and total expense\"\"\"\n",
    "\n",
    "sql_response.invoke(\n",
    "    {\n",
    "        \"input\": question,\n",
    "        \"agent_scratchpad\": []}\n",
    "    )\n"
   ]
  },
  {
   "cell_type": "code",
   "execution_count": null,
   "metadata": {},
   "outputs": [],
   "source": []
  },
  {
   "cell_type": "code",
   "execution_count": 112,
   "metadata": {},
   "outputs": [
    {
     "name": "stdout",
     "output_type": "stream",
     "text": [
      "```sql\n",
      "SELECT x.\"name\" AS account_name, SUM(t.total) AS total_expense\n",
      "FROM xero_accounts x\n",
      "JOIN (\n",
      "    SELECT tl.\"_sdc_source_key__id\", SUM(tl.line_amount) AS total\n",
      "    FROM transactions__line_items tl\n",
      "    JOIN transactions t ON tl.\"_sdc_source_key__id\" = t.\"_id\"\n",
      "    WHERE t.account_id = 'your_account_id_here' \n",
      "    AND t.\"date\" BETWEEN 'start_date_here' AND 'end_date_here'\n",
      "    GROUP BY tl.\"_sdc_source_key__id\"\n",
      ") t ON x.\"_id\" = t.\"_sdc_source_key__id\"\n",
      "GROUP BY x.\"_id\";\n",
      "```\n"
     ]
    }
   ],
   "source": [
    "def get_query(question, llm, prompt):\n",
    "    sql_response = (\n",
    "    RunnablePassthrough.assign(schema=get_schema)\n",
    "    | prompt\n",
    "    | llm.bind(stop=[\"\\nSQLResult:\"])\n",
    "    | StrOutputParser()\n",
    "    )\n",
    "\n",
    "    return sql_response.invoke(\n",
    "    {\n",
    "        \"input\": question,\n",
    "        \"agent_scratchpad\": []}\n",
    "    )\n",
    "\n",
    "\n",
    "def gen_sql_query_tool(query: str):\n",
    "    return get_query(question=query, llm=llm, prompt=full_sql_prompt)\n",
    "\n",
    "sql_query_generator = StructuredTool.from_function(\n",
    "    func=gen_sql_query_tool,\n",
    "    name=\"Search\",\n",
    "    description=\"this tool must be used for queries related to performing sql queries on a database\",\n",
    ")\n",
    "\n",
    "question = \"\"\"Can you share the total expenses for a given account_id in a given date range. The output\n",
    "should include account name and total expense\"\"\"\n",
    "\n",
    "print(sql_query_generator.run(question))"
   ]
  },
  {
   "cell_type": "code",
   "execution_count": 32,
   "metadata": {},
   "outputs": [],
   "source": []
  },
  {
   "cell_type": "code",
   "execution_count": 98,
   "metadata": {},
   "outputs": [],
   "source": [
    "from langchain_openai import ChatOpenAI\n",
    "from langchain.chains import ConversationChain\n",
    "from langchain.chains.conversation.memory import ConversationBufferWindowMemory\n",
    "from langchain.memory import VectorStoreRetrieverMemory\n",
    "from langchain.prompts import PromptTemplate\n",
    "from langchain_openai import OpenAIEmbeddings\n",
    "from langchain_pinecone import PineconeVectorStore\n",
    "from pinecone import Pinecone, PodSpec\n",
    "from langchain_pinecone import PineconeVectorStore\n",
    "from langchain.tools.retriever import create_retriever_tool\n",
    "\n",
    "from dotenv import load_dotenv\n",
    "import os"
   ]
  },
  {
   "cell_type": "code",
   "execution_count": 99,
   "metadata": {},
   "outputs": [],
   "source": [
    "load_dotenv() \n",
    "openai_api_key = os.environ.get(\"OPENAI_ACCESS_TOKEN\")\n",
    "pinecone_api_key = os.environ.get(\"PINECONE_API_KEY\")"
   ]
  },
  {
   "cell_type": "code",
   "execution_count": 100,
   "metadata": {},
   "outputs": [],
   "source": [
    "pc = Pinecone(api_key=pinecone_api_key)"
   ]
  },
  {
   "cell_type": "code",
   "execution_count": 101,
   "metadata": {},
   "outputs": [
    {
     "data": {
      "text/plain": [
       "{'dimension': 512,\n",
       " 'index_fullness': 0.00012,\n",
       " 'namespaces': {'': {'vector_count': 12}},\n",
       " 'total_vector_count': 12}"
      ]
     },
     "execution_count": 101,
     "metadata": {},
     "output_type": "execute_result"
    }
   ],
   "source": [
    "index_name = 'llm-for-sql-agent'\n",
    "index = pc.Index(index_name)\n",
    "index.describe_index_stats()"
   ]
  },
  {
   "cell_type": "code",
   "execution_count": 102,
   "metadata": {},
   "outputs": [],
   "source": [
    "# Process a PDF and create embeddings\n",
    "EMBEDDING_MODEL = \"text-embedding-3-small\"\n",
    "TEXT_DIMENSION = index.describe_index_stats()['dimension']\n",
    "\n",
    "embeddings = OpenAIEmbeddings(\n",
    "    model=EMBEDDING_MODEL,\n",
    "    openai_api_key=openai_api_key,\n",
    "    dimensions=TEXT_DIMENSION\n",
    ")\n",
    "\n",
    "vectorstore = PineconeVectorStore(\n",
    "    index_name=index_name,\n",
    "    embedding=embeddings)\n",
    "\n",
    "retriever = vectorstore.as_retriever(search_kwargs=dict(k=1))\n",
    "\n",
    "retriever_tool = create_retriever_tool(\n",
    "    retriever,\n",
    "    \"document_search\",\n",
    "    \"Search for information about documents not related to any SQL query. For any questions about Documents, you must use this tool!\",\n",
    ")"
   ]
  },
  {
   "cell_type": "code",
   "execution_count": 44,
   "metadata": {},
   "outputs": [],
   "source": [
    "\n"
   ]
  },
  {
   "cell_type": "code",
   "execution_count": 113,
   "metadata": {},
   "outputs": [],
   "source": [
    "tools = [sql_query_generator, retriever_tool]"
   ]
  },
  {
   "cell_type": "code",
   "execution_count": 119,
   "metadata": {},
   "outputs": [],
   "source": [
    "from langchain import hub\n",
    "\n",
    "# Get the prompt to use - you can modify this!\n",
    "prompt = hub.pull(\"hwchase17/openai-functions-agent\")"
   ]
  },
  {
   "cell_type": "code",
   "execution_count": 127,
   "metadata": {},
   "outputs": [
    {
     "data": {
      "text/plain": [
       "[SystemMessagePromptTemplate(prompt=PromptTemplate(input_variables=[], template='You are a helpful assistant')),\n",
       " MessagesPlaceholder(variable_name='chat_history', optional=True),\n",
       " HumanMessagePromptTemplate(prompt=PromptTemplate(input_variables=['input'], template='{input}')),\n",
       " MessagesPlaceholder(variable_name='agent_scratchpad')]"
      ]
     },
     "execution_count": 127,
     "metadata": {},
     "output_type": "execute_result"
    }
   ],
   "source": [
    "prompt.messages"
   ]
  },
  {
   "cell_type": "code",
   "execution_count": 121,
   "metadata": {},
   "outputs": [],
   "source": [
    "from langchain.agents import create_openai_functions_agent\n",
    "\n",
    "agent = create_openai_functions_agent(llm, tools, prompt)"
   ]
  },
  {
   "cell_type": "code",
   "execution_count": 122,
   "metadata": {},
   "outputs": [],
   "source": [
    "from langchain.agents import AgentExecutor\n",
    "\n",
    "agent_executor = AgentExecutor(agent=agent, tools=tools, verbose=True)"
   ]
  },
  {
   "cell_type": "code",
   "execution_count": 123,
   "metadata": {},
   "outputs": [
    {
     "name": "stdout",
     "output_type": "stream",
     "text": [
      "\n",
      "\n",
      "\u001b[1m> Entering new AgentExecutor chain...\u001b[0m\n",
      "\u001b[32;1m\u001b[1;3mHello! How can I assist you today?\u001b[0m\n",
      "\n",
      "\u001b[1m> Finished chain.\u001b[0m\n"
     ]
    },
    {
     "data": {
      "text/plain": [
       "{'input': 'hi!', 'output': 'Hello! How can I assist you today?'}"
      ]
     },
     "execution_count": 123,
     "metadata": {},
     "output_type": "execute_result"
    }
   ],
   "source": [
    "agent_executor.invoke({\"input\": \"hi!\"})"
   ]
  },
  {
   "cell_type": "code",
   "execution_count": 108,
   "metadata": {},
   "outputs": [
    {
     "name": "stdout",
     "output_type": "stream",
     "text": [
      "\n",
      "\n",
      "\u001b[1m> Entering new AgentExecutor chain...\u001b[0m\n",
      "\u001b[32;1m\u001b[1;3m\n",
      "Invoking: `document_search` with `{'query': 'taxi fare'}`\n",
      "\n",
      "\n",
      "\u001b[0m\u001b[33;1m\u001b[1;3minput: How much was the taxi ride?\n",
      "response: The total cost of the taxi ride was 2300 NGN, including VAT.\u001b[0m\u001b[32;1m\u001b[1;3mThe taxi fare for the ride was 2300 NGN, including VAT.\u001b[0m\n",
      "\n",
      "\u001b[1m> Finished chain.\u001b[0m\n"
     ]
    },
    {
     "data": {
      "text/plain": [
       "{'input': 'how much was the taxi fare?',\n",
       " 'output': 'The taxi fare for the ride was 2300 NGN, including VAT.'}"
      ]
     },
     "execution_count": 108,
     "metadata": {},
     "output_type": "execute_result"
    }
   ],
   "source": [
    "agent_executor.invoke({\"input\": \"how much was the taxi fare?\"})"
   ]
  },
  {
   "cell_type": "code",
   "execution_count": 125,
   "metadata": {},
   "outputs": [
    {
     "name": "stdout",
     "output_type": "stream",
     "text": [
      "\n",
      "\n",
      "\u001b[1m> Entering new AgentExecutor chain...\u001b[0m\n",
      "\u001b[32;1m\u001b[1;3m\n",
      "Invoking: `Search` with `{'query': 'SELECT COUNT(*) FROM transactions'}`\n",
      "\n",
      "\n",
      "\u001b[0m\u001b[36;1m\u001b[1;3mSELECT COUNT(*) FROM transactions;\u001b[0m\u001b[32;1m\u001b[1;3mThe SQL query to determine the number of transactions that occurred is: \n",
      "\n",
      "```\n",
      "SELECT COUNT(*) FROM transactions;\n",
      "```\u001b[0m\n",
      "\n",
      "\u001b[1m> Finished chain.\u001b[0m\n"
     ]
    },
    {
     "data": {
      "text/plain": [
       "{'input': 'write a suitable sql query to determine the number of transactions that occured?',\n",
       " 'output': 'The SQL query to determine the number of transactions that occurred is: \\n\\n```\\nSELECT COUNT(*) FROM transactions;\\n```'}"
      ]
     },
     "execution_count": 125,
     "metadata": {},
     "output_type": "execute_result"
    }
   ],
   "source": [
    "agent_executor.invoke({\"input\": \"write a suitable sql query to determine the number of transactions that occured?\"})"
   ]
  },
  {
   "cell_type": "code",
   "execution_count": 129,
   "metadata": {},
   "outputs": [
    {
     "name": "stdout",
     "output_type": "stream",
     "text": [
      "\n",
      "\n",
      "\u001b[1m> Entering new AgentExecutor chain...\u001b[0m\n",
      "\u001b[32;1m\u001b[1;3m\n",
      "Invoking: `Search` with `{'query': \"SELECT account_name, SUM(expense_amount) AS total_expense FROM expenses WHERE account_id = 'account_id' AND expense_date BETWEEN 'start_date' AND 'end_date' GROUP BY account_name\"}`\n",
      "\n",
      "\n",
      "\u001b[0m\u001b[36;1m\u001b[1;3mI don't know\u001b[0m\u001b[32;1m\u001b[1;3mI have provided the SQL query for you:\n",
      "\n",
      "```sql\n",
      "SELECT account_name, SUM(expense_amount) AS total_expense\n",
      "FROM expenses\n",
      "WHERE account_id = 'account_id' \n",
      "AND expense_date BETWEEN 'start_date' AND 'end_date'\n",
      "GROUP BY account_name\n",
      "``` \n",
      "\n",
      "You can replace 'account_id', 'start_date', and 'end_date' with your desired values when using the query.\u001b[0m\n",
      "\n",
      "\u001b[1m> Finished chain.\u001b[0m\n"
     ]
    },
    {
     "data": {
      "text/plain": [
       "{'input': 'Write SQL query to show the total expenses for a given account_id in a given date range. The output\\nshould include account name and total expense',\n",
       " 'output': \"I have provided the SQL query for you:\\n\\n```sql\\nSELECT account_name, SUM(expense_amount) AS total_expense\\nFROM expenses\\nWHERE account_id = 'account_id' \\nAND expense_date BETWEEN 'start_date' AND 'end_date'\\nGROUP BY account_name\\n``` \\n\\nYou can replace 'account_id', 'start_date', and 'end_date' with your desired values when using the query.\"}"
      ]
     },
     "execution_count": 129,
     "metadata": {},
     "output_type": "execute_result"
    }
   ],
   "source": [
    "question = \"\"\"Write SQL query to show the total expenses for a given account_id in a given date range. The output\n",
    "should include account name and total expense\"\"\"\n",
    "agent_executor.invoke({\"input\": question})"
   ]
  },
  {
   "cell_type": "code",
   "execution_count": 133,
   "metadata": {},
   "outputs": [
    {
     "name": "stdout",
     "output_type": "stream",
     "text": [
      "\n",
      "\n",
      "\u001b[1m> Entering new AgentExecutor chain...\u001b[0m\n",
      "\u001b[32;1m\u001b[1;3m\n",
      "Invoking: `Search` with `{'query': 'SELECT Driver FROM TaxiFare'}`\n",
      "\n",
      "\n",
      "\u001b[0m\u001b[36;1m\u001b[1;3mI don't know\u001b[0m\u001b[32;1m\u001b[1;3mI apologize, but I am unable to provide information about the taxi fare driver at the moment.\u001b[0m\n",
      "\n",
      "\u001b[1m> Finished chain.\u001b[0m\n"
     ]
    },
    {
     "data": {
      "text/plain": [
       "{'input': 'Who was the taxi fare Driver',\n",
       " 'output': 'I apologize, but I am unable to provide information about the taxi fare driver at the moment.'}"
      ]
     },
     "execution_count": 133,
     "metadata": {},
     "output_type": "execute_result"
    }
   ],
   "source": [
    "question = \"\"\"Who was the taxi fare Driver\"\"\"\n",
    "agent_executor.invoke({\"input\": question})"
   ]
  },
  {
   "cell_type": "code",
   "execution_count": null,
   "metadata": {},
   "outputs": [],
   "source": []
  },
  {
   "cell_type": "code",
   "execution_count": null,
   "metadata": {},
   "outputs": [],
   "source": [
    "# from langchain.prompts import (SystemMessagePromptTemplate, \n",
    "#                                HumanMessagePromptTemplate, \n",
    "#                                MessagesPlaceholder, \n",
    "#                                ChatPromptTemplate)\n",
    "\n",
    "# system_template = \"\"\"You are an intelligent agent\"\"\"\n",
    "# system_message_prompt_template = SystemMessagePromptTemplate.from_template(\n",
    "#     system_template)\n",
    "\n",
    "# human_template = \"{input}\"\n",
    "# human_message_prompt_template = HumanMessagePromptTemplate.from_template(human_template)\n",
    "\n",
    "# message_placeholder = [MessagesPlaceholder(variable_name=\"conversation\"), human_message_prompt_template]\n",
    "\n",
    "# chat_prompt_template = ChatPromptTemplate.from_messages(\n",
    "#     [system_message_prompt_template,\n",
    "#      message_placeholder,\n",
    "#      human_message_prompt_template])\n",
    "\n",
    "# final_prompt = chat_prompt_template.format_prompt(\n",
    "#                 sample_text=\"\").to_messages()\n",
    "\n",
    "# final_prompt"
   ]
  },
  {
   "cell_type": "code",
   "execution_count": 45,
   "metadata": {},
   "outputs": [
    {
     "name": "stdout",
     "output_type": "stream",
     "text": [
      "\n",
      "\n",
      "\u001b[1m> Entering new ConversationChain chain...\u001b[0m\n",
      "Prompt after formatting:\n",
      "\u001b[32;1m\u001b[1;3mThe following is a friendly conversation between a human and an AI. The AI is talkative and provides lots of specific details from its context. If the AI does not know the answer to a question, it truthfully says it does not know.\n",
      "\n",
      "Relevant pieces of previous conversation:\n",
      "input: How much was the taxi ride?\n",
      "response: The total cost of the taxi ride was 2300 NGN, including VAT.\n",
      "\n",
      "(You do not need to use these pieces of information if not relevant)\n",
      "\n",
      "Current conversation:\n",
      "Human: How much was the taxi ride?\n",
      "AI:\u001b[0m\n",
      "\n",
      "\u001b[1m> Finished chain.\u001b[0m\n"
     ]
    },
    {
     "data": {
      "text/plain": [
       "'The total cost of the taxi ride was 2300 NGN, including VAT.'"
      ]
     },
     "execution_count": 45,
     "metadata": {},
     "output_type": "execute_result"
    }
   ],
   "source": [
    "# # chat completion llm\n",
    "# llm_chatmodel = ChatOpenAI(\n",
    "#     openai_api_key=openai_api_key,\n",
    "#     model_name='gpt-3.5-turbo',\n",
    "#     temperature=0.0\n",
    "# )\n",
    "\n",
    "# memory = VectorStoreRetrieverMemory(retriever=retriever)\n",
    "\n",
    "# _DEFAULT_TEMPLATE = \"\"\"The following is a friendly conversation between a human and an AI. The AI is talkative and provides lots of specific details from its context. If the AI does not know the answer to a question, it truthfully says it does not know.\n",
    "\n",
    "# Relevant pieces of previous conversation:\n",
    "# {history}\n",
    "\n",
    "# (You do not need to use these pieces of information if not relevant)\n",
    "\n",
    "# Current conversation:\n",
    "# Human: {input}\n",
    "# AI:\"\"\"\n",
    "# PROMPT = PromptTemplate(\n",
    "#     input_variables=[\"history\", \"input\"], template=_DEFAULT_TEMPLATE\n",
    "# )\n",
    "# conversation_with_summary = ConversationChain(\n",
    "#     llm=llm,\n",
    "#     prompt=PROMPT,\n",
    "#     memory=memory,\n",
    "#     verbose=True\n",
    "# )\n",
    "\n",
    "# query = \"How much was the taxi ride?\"\n",
    "# conversation_with_summary.predict(input=query)"
   ]
  },
  {
   "cell_type": "code",
   "execution_count": 46,
   "metadata": {},
   "outputs": [],
   "source": []
  },
  {
   "cell_type": "code",
   "execution_count": null,
   "metadata": {},
   "outputs": [],
   "source": []
  },
  {
   "cell_type": "markdown",
   "metadata": {},
   "source": [
    "# Define Tools and Agents"
   ]
  },
  {
   "cell_type": "code",
   "execution_count": null,
   "metadata": {},
   "outputs": [],
   "source": []
  }
 ],
 "metadata": {
  "kernelspec": {
   "display_name": ".venv",
   "language": "python",
   "name": "python3"
  },
  "language_info": {
   "codemirror_mode": {
    "name": "ipython",
    "version": 3
   },
   "file_extension": ".py",
   "mimetype": "text/x-python",
   "name": "python",
   "nbconvert_exporter": "python",
   "pygments_lexer": "ipython3",
   "version": "3.11.0"
  }
 },
 "nbformat": 4,
 "nbformat_minor": 2
}
