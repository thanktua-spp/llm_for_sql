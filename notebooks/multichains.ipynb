{
 "cells": [
  {
   "cell_type": "code",
   "execution_count": 8,
   "metadata": {},
   "outputs": [],
   "source": [
    "from langchain_core.prompts import ChatPromptTemplate\n",
    "from langchain_community.utilities import SQLDatabase\n",
    "from langchain_core.output_parsers import StrOutputParser\n",
    "from langchain_core.runnables import RunnablePassthrough\n",
    "from langchain_openai import ChatOpenAI\n",
    "\n",
    "from langchain.prompts import PromptTemplate\n",
    "from langchain_openai import OpenAI\n",
    "from langchain.chains import LLMChain\n",
    "from langchain.prompts import PromptTemplate\n",
    "from langchain.pydantic_v1 import BaseModel, Field\n",
    "from langchain.tools import BaseTool, StructuredTool, tool\n",
    "\n",
    "from langchain_openai import ChatOpenAI\n",
    "from langchain.chains import ConversationChain\n",
    "from langchain.chains.conversation.memory import ConversationBufferWindowMemory\n",
    "from langchain.memory import VectorStoreRetrieverMemory\n",
    "from langchain.prompts import PromptTemplate\n",
    "from langchain_openai import OpenAIEmbeddings\n",
    "from langchain_pinecone import PineconeVectorStore\n",
    "from pinecone import Pinecone, PodSpec\n",
    "from langchain_pinecone import PineconeVectorStore\n",
    "from langchain.tools.retriever import create_retriever_tool\n",
    "\n",
    "from dotenv import load_dotenv\n",
    "import os\n",
    "\n",
    "from dotenv import load_dotenv\n",
    "import os"
   ]
  },
  {
   "cell_type": "code",
   "execution_count": 2,
   "metadata": {},
   "outputs": [],
   "source": [
    "# Check if .env file exists\n",
    "if os.path.exists('.env'):\n",
    "    load_dotenv() \n",
    "    \n",
    "os.environ[\"OPENAI_API_KEY\"] = os.environ.get(\"OPENAI_ACCESS_TOKEN\")"
   ]
  },
  {
   "cell_type": "code",
   "execution_count": null,
   "metadata": {},
   "outputs": [],
   "source": []
  },
  {
   "cell_type": "code",
   "execution_count": 3,
   "metadata": {},
   "outputs": [],
   "source": [
    "def get_schema(_):\n",
    "    db_shema = \"\"\"\n",
    "    \n",
    "    CREATE TABLE xero_accounts (\n",
    "    \"_id\" text NOT NULL,\n",
    "    \"_sdc_batched_at\" timestamptz NULL,\n",
    "    \"_sdc_extracted_at\" timestamptz NULL,\n",
    "    \"_sdc_received_at\" timestamptz NULL,\n",
    "    \"_sdc_sequence\" int8 NULL,\n",
    "    \"_sdc_table_version\" int8 NULL,\n",
    "    account_id text NULL,\n",
    "    add_to_watchlist bool NULL,\n",
    "    bank_account_number text NULL,\n",
    "    bank_account_type text NULL,\n",
    "    \"class\" text NULL values: Expense and Others\n",
    "    code text NULL,\n",
    "    currency_code text NULL,\n",
    "    enable_payments_to_account bool NULL,\n",
    "    form_account_id text NULL,\n",
    "    has_attachments bool NULL,\n",
    "    \"name\" text NULL,\n",
    "    reporting_code text NULL,\n",
    "    reporting_code_name text NULL,\n",
    "    show_in_expense_claims bool NULL,\n",
    "    status text NULL,\n",
    "    system_account text NULL,\n",
    "    tax_type text NULL,\n",
    "    \"type\" text NULL,\n",
    "    updated_date_utc text NULL,\n",
    "    CONSTRAINT xero_accounts_pkey PRIMARY KEY (\"_id\")\n",
    "    );\n",
    "    CREATE TABLE transactions (\n",
    "    \"_id\" text NOT NULL,\n",
    "    \"_sdc_batched_at\" timestamptz NULL,\n",
    "    \"_sdc_extracted_at\" timestamptz NULL,\n",
    "    \"_sdc_received_at\" timestamptz NULL,\n",
    "    \"_sdc_sequence\" int8 NULL,\n",
    "    \"_sdc_table_version\" int8 NULL,\n",
    "    account_id text NULL,\n",
    "    bank_account_code text NULL,\n",
    "    bank_account_id text NULL,\n",
    "    bank_account_name text NULL,\n",
    "    bank_transaction_id text NULL,\n",
    "    contact_id text NULL,\n",
    "    contact_name text NULL,\n",
    "    currency_code text NULL,\n",
    "    \"date\" timestamptz NULL,\n",
    "    is_reconciled bool NULL,\n",
    "    line_amount_types text NULL,\n",
    "    reference text NULL,\n",
    "    status text NULL,\n",
    "    sub_total float8 NULL,\n",
    "    total float8 NULL,\n",
    "    total_tax float8 NULL,\n",
    "    \"type\" text NULL,\n",
    "    updated_utc timestamptz NULL,\n",
    "    CONSTRAINT transactions_pkey PRIMARY KEY (\"_id\")\n",
    "    );\n",
    "    CREATE TABLE transactions__line_items (\n",
    "    \"_sdc_batched_at\" timestamptz NULL,\n",
    "    \"_sdc_level_0_id\" int8 NOT NULL,\n",
    "    \"_sdc_received_at\" timestamptz NULL,\n",
    "    \"_sdc_sequence\" int8 NULL,\n",
    "    \"_sdc_source_key__id\" text NOT NULL,\n",
    "    \"_sdc_table_version\" int8 NULL,\n",
    "    account_code text NULL,\n",
    "    account_id text NULL,\n",
    "    description text NULL,\n",
    "    line_amount float8 NULL,\n",
    "    line_item_id text NULL,\n",
    "    quantity float8 NULL,\n",
    "    tax_amount float8 NULL,\n",
    "    tax_type text NULL,\n",
    "    unit_amount float8 NULL,\n",
    "    CONSTRAINT transactions__line_items_pkey PRIMARY KEY\n",
    "    (\"_sdc_level_0_id\",\"_sdc_source_key__id\")\n",
    "    );\n",
    "        \n",
    "    \"\"\"\n",
    "    return db_shema\n"
   ]
  },
  {
   "cell_type": "code",
   "execution_count": 4,
   "metadata": {},
   "outputs": [],
   "source": [
    "from langchain_core.output_parsers import StrOutputParser"
   ]
  },
  {
   "cell_type": "code",
   "execution_count": null,
   "metadata": {},
   "outputs": [],
   "source": [
    "sql_query_prompt = \"\"\"Based on the table schema below, write a SQL query that would answer the user's question:\n",
    "{schema}\n",
    "Question: {question}\n",
    "SQL Query:\"\"\"\n",
    "\n",
    "document_retrival_prompt = \"\"\"The following is a friendly conversation between a human and an AI. The AI is talkative and provides lots of specific details from its context. If the AI does not know the answer to a question, it truthfully says it does not know.\n",
    "\n",
    "Relevant pieces of previous conversation:\n",
    "{history}\n",
    "\n",
    "(You do not need to use these pieces of information if not relevant)\n",
    "\n",
    "Current conversation:\n",
    "Human: {input}\n",
    "AI:\"\"\""
   ]
  },
  {
   "cell_type": "code",
   "execution_count": 6,
   "metadata": {},
   "outputs": [
    {
     "data": {
      "text/plain": [
       "'SELECT x.\"name\" AS account_name, SUM(t.total) AS total_expense\\nFROM xero_accounts x\\nJOIN transactions t ON x.account_id = t.account_id\\nWHERE x.account_id = \\'your_account_id\\'\\nAND t.\"date\" >= \\'start_date\\'\\nAND t.\"date\" <= \\'end_date\\'\\nAND t.\"type\" = \\'Expense\\'\\nGROUP BY x.\"name\";'"
      ]
     },
     "execution_count": 6,
     "metadata": {},
     "output_type": "execute_result"
    }
   ],
   "source": [
    "\n",
    "\n",
    "sql_prompt = ChatPromptTemplate.from_template(sql_query_prompt)\n",
    "\n",
    "llm = ChatOpenAI()\n",
    "\n",
    "sql_query_chain = (\n",
    "    RunnablePassthrough.assign(schema=get_schema)\n",
    "    | sql_prompt\n",
    "    | llm.bind(stop=[\"\\nSQLResult:\"])\n",
    "    | StrOutputParser()\n",
    "    )\n",
    "\n",
    "question = \"\"\"Can you share the total expenses for a given account_id in a given date range. The output\n",
    "should include account name and total expense\"\"\"\n",
    "\n",
    "sql_query_chain.invoke({\"question\": question})"
   ]
  },
  {
   "cell_type": "code",
   "execution_count": 10,
   "metadata": {},
   "outputs": [
    {
     "data": {
      "text/plain": [
       "{'dimension': 512,\n",
       " 'index_fullness': 0.00012,\n",
       " 'namespaces': {'': {'vector_count': 12}},\n",
       " 'total_vector_count': 12}"
      ]
     },
     "execution_count": 10,
     "metadata": {},
     "output_type": "execute_result"
    }
   ],
   "source": [
    "openai_api_key = os.environ.get(\"OPENAI_ACCESS_TOKEN\")\n",
    "pinecone_api_key = os.environ.get(\"PINECONE_API_KEY\")\n",
    "pc = Pinecone(api_key=pinecone_api_key)\n",
    "\n",
    "index_name = 'llm-for-sql-agent'\n",
    "index = pc.Index(index_name)\n",
    "index.describe_index_stats()"
   ]
  },
  {
   "cell_type": "code",
   "execution_count": 11,
   "metadata": {},
   "outputs": [],
   "source": [
    "# Process a PDF and create embeddings\n",
    "EMBEDDING_MODEL = \"text-embedding-3-small\"\n",
    "TEXT_DIMENSION = index.describe_index_stats()['dimension']\n",
    "\n",
    "embeddings = OpenAIEmbeddings(\n",
    "    model=EMBEDDING_MODEL,\n",
    "    openai_api_key=openai_api_key,\n",
    "    dimensions=TEXT_DIMENSION\n",
    ")\n",
    "\n",
    "vectorstore = PineconeVectorStore(\n",
    "    index_name=index_name,\n",
    "    embedding=embeddings)\n",
    "\n",
    "retriever = vectorstore.as_retriever(search_kwargs=dict(k=1))\n",
    "\n",
    "memory = VectorStoreRetrieverMemory(retriever=retriever)\n",
    "\n",
    "\n",
    "document_chain = ChatPromptTemplate(\n",
    "    input_variables=[\"history\", \"input\"], template=_DEFAULT_TEMPLATE\n",
    ")\n",
    "conversation_with_summary = ConversationChain(\n",
    "    llm=llm,\n",
    "    prompt=PROMPT,\n",
    "    memory=memory,\n",
    "    verbose=True\n",
    ")\n",
    "\n",
    "query = \"How much was the taxi ride?\"\n",
    "conversation_with_summary.predict(input=query)"
   ]
  }
 ],
 "metadata": {
  "kernelspec": {
   "display_name": ".venv",
   "language": "python",
   "name": "python3"
  },
  "language_info": {
   "codemirror_mode": {
    "name": "ipython",
    "version": 3
   },
   "file_extension": ".py",
   "mimetype": "text/x-python",
   "name": "python",
   "nbconvert_exporter": "python",
   "pygments_lexer": "ipython3",
   "version": "3.11.0"
  }
 },
 "nbformat": 4,
 "nbformat_minor": 2
}
