{
 "cells": [
  {
   "cell_type": "code",
   "execution_count": 5,
   "metadata": {},
   "outputs": [],
   "source": [
    "from langchain_core.prompts import ChatPromptTemplate\n",
    "from langchain_community.utilities import SQLDatabase\n",
    "from langchain_core.output_parsers import StrOutputParser\n",
    "from langchain_core.runnables import RunnablePassthrough\n",
    "from langchain_openai import ChatOpenAI"
   ]
  },
  {
   "cell_type": "code",
   "execution_count": 8,
   "metadata": {},
   "outputs": [],
   "source": [
    "from dotenv import load_dotenv\n",
    "import os\n",
    "\n",
    "# Check if .env file exists\n",
    "if os.path.exists('.env'):\n",
    "    load_dotenv() \n",
    "    \n",
    "os.environ[\"OPENAI_API_KEY\"] = os.environ.get(\"OPENAI_ACCESS_TOKEN\")"
   ]
  },
  {
   "cell_type": "code",
   "execution_count": 9,
   "metadata": {},
   "outputs": [],
   "source": [
    "from langchain_core.prompts import ChatPromptTemplate\n",
    "\n",
    "template = \"\"\"Based on the table schema below, write a SQL query that would answer the user's question:\n",
    "{schema}\n",
    "\n",
    "Question: {question}\n",
    "SQL Query:\"\"\"\n",
    "prompt = ChatPromptTemplate.from_template(template)"
   ]
  },
  {
   "cell_type": "code",
   "execution_count": 10,
   "metadata": {},
   "outputs": [],
   "source": [
    "def get_schema(_):\n",
    "    db_shema = \"\"\"\n",
    "    \n",
    "    CREATE TABLE xero_accounts (\n",
    "    \"_id\" text NOT NULL,\n",
    "    \"_sdc_batched_at\" timestamptz NULL,\n",
    "    \"_sdc_extracted_at\" timestamptz NULL,\n",
    "    \"_sdc_received_at\" timestamptz NULL,\n",
    "    \"_sdc_sequence\" int8 NULL,\n",
    "    \"_sdc_table_version\" int8 NULL,\n",
    "    account_id text NULL,\n",
    "    add_to_watchlist bool NULL,\n",
    "    bank_account_number text NULL,\n",
    "    bank_account_type text NULL,\n",
    "    \"class\" text NULL values: Expense and Others\n",
    "    code text NULL,\n",
    "    currency_code text NULL,\n",
    "    enable_payments_to_account bool NULL,\n",
    "    form_account_id text NULL,\n",
    "    has_attachments bool NULL,\n",
    "    \"name\" text NULL,\n",
    "    reporting_code text NULL,\n",
    "    reporting_code_name text NULL,\n",
    "    show_in_expense_claims bool NULL,\n",
    "    status text NULL,\n",
    "    system_account text NULL,\n",
    "    tax_type text NULL,\n",
    "    \"type\" text NULL,\n",
    "    updated_date_utc text NULL,\n",
    "    CONSTRAINT xero_accounts_pkey PRIMARY KEY (\"_id\")\n",
    "    );\n",
    "    CREATE TABLE transactions (\n",
    "    \"_id\" text NOT NULL,\n",
    "    \"_sdc_batched_at\" timestamptz NULL,\n",
    "    \"_sdc_extracted_at\" timestamptz NULL,\n",
    "    \"_sdc_received_at\" timestamptz NULL,\n",
    "    \"_sdc_sequence\" int8 NULL,\n",
    "    \"_sdc_table_version\" int8 NULL,\n",
    "    account_id text NULL,\n",
    "    bank_account_code text NULL,\n",
    "    bank_account_id text NULL,\n",
    "    bank_account_name text NULL,\n",
    "    bank_transaction_id text NULL,\n",
    "    contact_id text NULL,\n",
    "    contact_name text NULL,\n",
    "    currency_code text NULL,\n",
    "    \"date\" timestamptz NULL,\n",
    "    is_reconciled bool NULL,\n",
    "    line_amount_types text NULL,\n",
    "    reference text NULL,\n",
    "    status text NULL,\n",
    "    sub_total float8 NULL,\n",
    "    total float8 NULL,\n",
    "    total_tax float8 NULL,\n",
    "    \"type\" text NULL,\n",
    "    updated_utc timestamptz NULL,\n",
    "    CONSTRAINT transactions_pkey PRIMARY KEY (\"_id\")\n",
    "    );\n",
    "    CREATE TABLE transactions__line_items (\n",
    "    \"_sdc_batched_at\" timestamptz NULL,\n",
    "    \"_sdc_level_0_id\" int8 NOT NULL,\n",
    "    \"_sdc_received_at\" timestamptz NULL,\n",
    "    \"_sdc_sequence\" int8 NULL,\n",
    "    \"_sdc_source_key__id\" text NOT NULL,\n",
    "    \"_sdc_table_version\" int8 NULL,\n",
    "    account_code text NULL,\n",
    "    account_id text NULL,\n",
    "    description text NULL,\n",
    "    line_amount float8 NULL,\n",
    "    line_item_id text NULL,\n",
    "    quantity float8 NULL,\n",
    "    tax_amount float8 NULL,\n",
    "    tax_type text NULL,\n",
    "    unit_amount float8 NULL,\n",
    "    CONSTRAINT transactions__line_items_pkey PRIMARY KEY\n",
    "    (\"_sdc_level_0_id\",\"_sdc_source_key__id\")\n",
    "    );\n",
    "        \n",
    "    \"\"\"\n",
    "    return db_shema"
   ]
  },
  {
   "cell_type": "code",
   "execution_count": 11,
   "metadata": {},
   "outputs": [],
   "source": [
    "model = ChatOpenAI()\n",
    "\n",
    "sql_response = (\n",
    "    RunnablePassthrough.assign(schema=get_schema)\n",
    "    | prompt\n",
    "    | model.bind(stop=[\"\\nSQLResult:\"])\n",
    "    | StrOutputParser()\n",
    ")"
   ]
  },
  {
   "cell_type": "code",
   "execution_count": 12,
   "metadata": {},
   "outputs": [
    {
     "name": "stdout",
     "output_type": "stream",
     "text": [
      "SELECT x.\"name\" AS account_name, \n",
      "       SUM(li.line_amount) AS total_expense\n",
      "FROM xero_accounts x\n",
      "JOIN transactions t ON x.account_id = t.account_id\n",
      "JOIN transactions__line_items li ON t.\"_id\" = li.\"_sdc_source_key__id\"\n",
      "WHERE x.account_id = 'given_account_id'\n",
      "AND t.\"date\" >= 'start_date'\n",
      "AND t.\"date\" <= 'end_date'\n",
      "AND x.\"class\" = 'Expense'\n",
      "GROUP BY x.\"name\";\n"
     ]
    }
   ],
   "source": [
    "question = \"\"\"Can you share the total expenses for a given account_id in a given date range. The output\n",
    "should include account name and total expense\"\"\"\n",
    "\n",
    "sql_response = sql_response.invoke({\"question\": question})\n",
    "\n",
    "print(sql_response)"
   ]
  }
 ],
 "metadata": {
  "kernelspec": {
   "display_name": "Python 3",
   "language": "python",
   "name": "python3"
  },
  "language_info": {
   "codemirror_mode": {
    "name": "ipython",
    "version": 3
   },
   "file_extension": ".py",
   "mimetype": "text/x-python",
   "name": "python",
   "nbconvert_exporter": "python",
   "pygments_lexer": "ipython3",
   "version": "3.11.0"
  }
 },
 "nbformat": 4,
 "nbformat_minor": 2
}
