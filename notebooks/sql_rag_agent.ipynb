{
 "cells": [
  {
   "cell_type": "code",
   "execution_count": 8,
   "metadata": {},
   "outputs": [],
   "source": [
    "from langchain_core.prompts import ChatPromptTemplate\n",
    "from langchain_community.utilities import SQLDatabase\n",
    "from langchain_core.output_parsers import StrOutputParser\n",
    "from langchain_core.runnables import RunnablePassthrough\n",
    "from langchain_openai import ChatOpenAI"
   ]
  },
  {
   "cell_type": "code",
   "execution_count": 16,
   "metadata": {},
   "outputs": [],
   "source": [
    "from dotenv import load_dotenv\n",
    "import os\n",
    "\n",
    "# Check if .env file exists\n",
    "if os.path.exists('.env'):\n",
    "    load_dotenv() \n",
    "    \n",
    "openai_api_key = os.environ.get(\"OPENAI_ACCESS_TOKEN\")"
   ]
  },
  {
   "cell_type": "code",
   "execution_count": 68,
   "metadata": {},
   "outputs": [
    {
     "data": {
      "text/plain": [
       "''"
      ]
     },
     "execution_count": 68,
     "metadata": {},
     "output_type": "execute_result"
    }
   ],
   "source": [
    "db = SQLDatabase.from_uri(\n",
    "    \"sqlite:///../data/sqlite_llm_dummy.db\",\n",
    "    sample_rows_in_table_info=1\n",
    "    )\n",
    "#print(db.get_table_info())\n",
    "sql_query = \"\"\"\n",
    "SELECT\n",
    "    xa.name AS account_name,\n",
    "    SUM(tli.line_amount) AS total_expense\n",
    "FROM\n",
    "    xero_accounts xa\n",
    "JOIN\n",
    "    transactions t ON xa.account_id = t.account_id\n",
    "JOIN\n",
    "    transactions__line_items tli ON t._id = tli._sdc_source_key__id\n",
    "WHERE\n",
    "    xa.account_id = 'acc3' -- Provided account_id\n",
    "    AND t.date >= '2024-03-13 08:00:00' AND t.date <= '2024-03-13 11:00:00' -- Provided date range\n",
    "    AND t.type = 'Expense' -- Assuming 'Expense' is the type for expense transactions\n",
    "GROUP BY\n",
    "    xa.name;\n",
    "\n",
    "\"\"\"\n",
    "db.run(sql_query)"
   ]
  },
  {
   "cell_type": "code",
   "execution_count": 57,
   "metadata": {},
   "outputs": [
    {
     "name": "stdout",
     "output_type": "stream",
     "text": [
      "SELECT x.name AS \"account_name\", SUM(t.total) AS \"total_expense\"\n",
      "FROM transactions t\n",
      "JOIN xero_accounts x ON t.account_id = x.account_id\n",
      "WHERE t.account_id = 'your_account_id_here'\n",
      "AND t.date BETWEEN 'start_date_here' AND 'end_date_here'\n",
      "GROUP BY x.name\n"
     ]
    }
   ],
   "source": [
    "from langchain.chains import create_sql_query_chain\n",
    "from langchain_openai import ChatOpenAI\n",
    "\n",
    "llm = ChatOpenAI(\n",
    "    openai_api_key=openai_api_key,\n",
    "    model_name='gpt-3.5-turbo',\n",
    "    temperature=0.0\n",
    ")\n",
    "\n",
    "chain = create_sql_query_chain(llm, db)\n",
    "\n",
    "query = \"\"\"\n",
    "what is the total number of transactions?\n",
    "\"\"\"\n",
    "\n",
    "question = \"\"\"Can you share the total expenses for a given account_id in a given date range. The output\n",
    "should include account name and total expense\"\"\"\n",
    "\n",
    "response = chain.invoke({\"question\": question})\n",
    "print(response)"
   ]
  },
  {
   "cell_type": "code",
   "execution_count": 58,
   "metadata": {},
   "outputs": [
    {
     "data": {
      "text/plain": [
       "''"
      ]
     },
     "execution_count": 58,
     "metadata": {},
     "output_type": "execute_result"
    }
   ],
   "source": [
    "db.run(response)"
   ]
  },
  {
   "cell_type": "code",
   "execution_count": null,
   "metadata": {},
   "outputs": [],
   "source": []
  },
  {
   "cell_type": "code",
   "execution_count": null,
   "metadata": {},
   "outputs": [],
   "source": []
  },
  {
   "cell_type": "code",
   "execution_count": 50,
   "metadata": {},
   "outputs": [],
   "source": [
    "from langchain_community.agent_toolkits import create_sql_agent\n",
    "from langchain_openai import ChatOpenAI\n",
    "\n",
    "llm = ChatOpenAI(model=\"gpt-3.5-turbo\", temperature=0)\n",
    "agent_executor = create_sql_agent(llm, db=db, agent_type=\"openai-tools\", verbose=True)"
   ]
  },
  {
   "cell_type": "code",
   "execution_count": 51,
   "metadata": {},
   "outputs": [
    {
     "name": "stdout",
     "output_type": "stream",
     "text": [
      "\n",
      "\n",
      "\u001b[1m> Entering new SQL Agent Executor chain...\u001b[0m\n",
      "\u001b[32;1m\u001b[1;3m\n",
      "Invoking: `sql_db_list_tables` with ``\n",
      "\n",
      "\n",
      "\u001b[0m\u001b[38;5;200m\u001b[1;3mtransactions, transactions__line_items, xero_accounts\u001b[0m\u001b[32;1m\u001b[1;3m\n",
      "Invoking: `sql_db_schema` with `{'table_names': 'transactions'}`\n",
      "\n",
      "\n",
      "\u001b[0m\u001b[33;1m\u001b[1;3m\n",
      "CREATE TABLE transactions (\n",
      "\t_id TEXT NOT NULL, \n",
      "\t_sdc_batched_at TIMESTAMP, \n",
      "\t_sdc_extracted_at TIMESTAMP, \n",
      "\t_sdc_received_at TIMESTAMP, \n",
      "\t_sdc_sequence INTEGER, \n",
      "\t_sdc_table_version INTEGER, \n",
      "\taccount_id TEXT, \n",
      "\tbank_account_code TEXT, \n",
      "\tbank_account_id TEXT, \n",
      "\tbank_account_name TEXT, \n",
      "\tbank_transaction_id TEXT, \n",
      "\tcontact_id TEXT, \n",
      "\tcontact_name TEXT, \n",
      "\tcurrency_code TEXT, \n",
      "\tdate TIMESTAMP, \n",
      "\tis_reconciled BOOLEAN, \n",
      "\tline_amount_types TEXT, \n",
      "\treference TEXT, \n",
      "\tstatus TEXT, \n",
      "\tsub_total REAL, \n",
      "\ttotal REAL, \n",
      "\ttotal_tax REAL, \n",
      "\ttype TEXT, \n",
      "\tupdated_utc TIMESTAMP, \n",
      "\tCONSTRAINT transactions_pkey PRIMARY KEY (_id)\n",
      ")\u001b[0m\u001b[32;1m\u001b[1;3m\n",
      "Invoking: `sql_db_query` with `SELECT COUNT(*) AS total_transactions FROM transactions`\n",
      "\n",
      "\n",
      "\u001b[0m\u001b[36;1m\u001b[1;3m[(4,)]\u001b[0m\u001b[32;1m\u001b[1;3mThere are 4 transactions in the database.\u001b[0m\n",
      "\n",
      "\u001b[1m> Finished chain.\u001b[0m\n"
     ]
    },
    {
     "data": {
      "text/plain": [
       "{'input': 'how many transactions are there?',\n",
       " 'output': 'There are 4 transactions in the database.'}"
      ]
     },
     "execution_count": 51,
     "metadata": {},
     "output_type": "execute_result"
    }
   ],
   "source": [
    "agent_executor.invoke(\n",
    "    \"how many transactions are there?\"\n",
    ")"
   ]
  },
  {
   "cell_type": "code",
   "execution_count": 52,
   "metadata": {},
   "outputs": [
    {
     "name": "stdout",
     "output_type": "stream",
     "text": [
      "\n",
      "\n",
      "\u001b[1m> Entering new SQL Agent Executor chain...\u001b[0m\n",
      "\u001b[32;1m\u001b[1;3m\n",
      "Invoking: `sql_db_list_tables` with ``\n",
      "\n",
      "\n",
      "\u001b[0m\u001b[38;5;200m\u001b[1;3mtransactions, transactions__line_items, xero_accounts\u001b[0m\u001b[32;1m\u001b[1;3m\n",
      "Invoking: `sql_db_schema` with `{'table_names': 'transactions, transactions__line_items, xero_accounts'}`\n",
      "\n",
      "\n",
      "\u001b[0m\u001b[33;1m\u001b[1;3m\n",
      "CREATE TABLE transactions (\n",
      "\t_id TEXT NOT NULL, \n",
      "\t_sdc_batched_at TIMESTAMP, \n",
      "\t_sdc_extracted_at TIMESTAMP, \n",
      "\t_sdc_received_at TIMESTAMP, \n",
      "\t_sdc_sequence INTEGER, \n",
      "\t_sdc_table_version INTEGER, \n",
      "\taccount_id TEXT, \n",
      "\tbank_account_code TEXT, \n",
      "\tbank_account_id TEXT, \n",
      "\tbank_account_name TEXT, \n",
      "\tbank_transaction_id TEXT, \n",
      "\tcontact_id TEXT, \n",
      "\tcontact_name TEXT, \n",
      "\tcurrency_code TEXT, \n",
      "\tdate TIMESTAMP, \n",
      "\tis_reconciled BOOLEAN, \n",
      "\tline_amount_types TEXT, \n",
      "\treference TEXT, \n",
      "\tstatus TEXT, \n",
      "\tsub_total REAL, \n",
      "\ttotal REAL, \n",
      "\ttotal_tax REAL, \n",
      "\ttype TEXT, \n",
      "\tupdated_utc TIMESTAMP, \n",
      "\tCONSTRAINT transactions_pkey PRIMARY KEY (_id)\n",
      ")\n",
      "\n",
      "\n",
      "CREATE TABLE transactions__line_items (\n",
      "\t_sdc_batched_at NUMERIC, \n",
      "\t_sdc_level_0_id INTEGER NOT NULL, \n",
      "\t_sdc_received_at NUMERIC, \n",
      "\t_sdc_sequence INTEGER, \n",
      "\t_sdc_source_key__id TEXT NOT NULL, \n",
      "\t_sdc_table_version INTEGER, \n",
      "\taccount_code TEXT, \n",
      "\taccount_id TEXT, \n",
      "\tdescription TEXT, \n",
      "\tline_amount REAL, \n",
      "\tline_item_id TEXT, \n",
      "\tquantity REAL, \n",
      "\ttax_amount REAL, \n",
      "\ttax_type TEXT, \n",
      "\tunit_amount REAL, \n",
      "\tCONSTRAINT transactions__line_items_pkey PRIMARY KEY (_sdc_level_0_id, _sdc_source_key__id)\n",
      ")\n",
      "\n",
      "\n",
      "CREATE TABLE xero_accounts (\n",
      "\t_id TEXT NOT NULL, \n",
      "\t_sdc_batched_at TIMESTAMP, \n",
      "\t_sdc_extracted_at TIMESTAMP, \n",
      "\t_sdc_received_at TIMESTAMP, \n",
      "\t_sdc_sequence INTEGER, \n",
      "\t_sdc_table_version INTEGER, \n",
      "\taccount_id TEXT, \n",
      "\tadd_to_watchlist BOOLEAN, \n",
      "\tbank_account_number TEXT, \n",
      "\tbank_account_type TEXT, \n",
      "\tclass TEXT, \n",
      "\tcode TEXT, \n",
      "\tcurrency_code TEXT, \n",
      "\tenable_payments_to_account BOOLEAN, \n",
      "\tform_account_id TEXT, \n",
      "\thas_attachments BOOLEAN, \n",
      "\tname TEXT, \n",
      "\treporting_code TEXT, \n",
      "\treporting_code_name TEXT, \n",
      "\tshow_in_expense_claims BOOLEAN, \n",
      "\tstatus TEXT, \n",
      "\tsystem_account TEXT, \n",
      "\ttax_type TEXT, \n",
      "\ttype TEXT, \n",
      "\tupdated_date_utc TEXT, \n",
      "\tCONSTRAINT xero_accounts_pkey PRIMARY KEY (_id)\n",
      ")\u001b[0m\u001b[32;1m\u001b[1;3m\n",
      "Invoking: `sql_db_query` with `SELECT xero_accounts.name AS account_name, SUM(transactions.total) AS total_expense\n",
      "FROM transactions\n",
      "JOIN xero_accounts ON transactions.account_id = xero_accounts.account_id\n",
      "WHERE transactions.account_id = 'your_account_id'\n",
      "AND transactions.date BETWEEN 'start_date' AND 'end_date'\n",
      "GROUP BY xero_accounts.name`\n",
      "responded: Based on the schema of the relevant tables, I can construct a query to find the total expenses for a given account_id in a given date range. Here is the query:\n",
      "\n",
      "```sql\n",
      "SELECT xero_accounts.name AS account_name, SUM(transactions.total) AS total_expense\n",
      "FROM transactions\n",
      "JOIN xero_accounts ON transactions.account_id = xero_accounts.account_id\n",
      "WHERE transactions.account_id = 'your_account_id'\n",
      "AND transactions.date BETWEEN 'start_date' AND 'end_date'\n",
      "GROUP BY xero_accounts.name\n",
      "```\n",
      "\n",
      "Please replace 'your_account_id' with the specific account_id you are interested in, 'start_date' with the start date of the date range, and 'end_date' with the end date of the date range.\n",
      "\n",
      "I will now execute this query to retrieve the total expenses for the specified account_id in the given date range.\n",
      "\n",
      "\u001b[0m\u001b[36;1m\u001b[1;3m\u001b[0m\u001b[32;1m\u001b[1;3mI have executed the query, but it returned an empty result. This could be due to the specific account_id or date range not existing in the database. Please provide me with a valid account_id and date range so I can rerun the query and retrieve the total expenses for that account within the specified date range.\u001b[0m\n",
      "\n",
      "\u001b[1m> Finished chain.\u001b[0m\n"
     ]
    },
    {
     "data": {
      "text/plain": [
       "{'input': 'Can you share the total expenses for a given account_id in a given date range. The output\\nshould include account name and total expense',\n",
       " 'output': 'I have executed the query, but it returned an empty result. This could be due to the specific account_id or date range not existing in the database. Please provide me with a valid account_id and date range so I can rerun the query and retrieve the total expenses for that account within the specified date range.'}"
      ]
     },
     "execution_count": 52,
     "metadata": {},
     "output_type": "execute_result"
    }
   ],
   "source": [
    "question = \"\"\"Can you share the total expenses for a given account_id in a given date range. The output\n",
    "should include account name and total expense\"\"\"\n",
    "\n",
    "agent_executor.invoke(\n",
    "    question\n",
    ")"
   ]
  },
  {
   "cell_type": "code",
   "execution_count": 61,
   "metadata": {},
   "outputs": [
    {
     "name": "stdout",
     "output_type": "stream",
     "text": [
      "\n",
      "      I have executed the query, but it returned an empty result. \n",
      "      This could be due to the specific account_id or date range not existing in the database.\n",
      "      Please provide me with a valid account_id and date range so I can rerun the query \n",
      "      and retrieve the total expenses for that account within the specified date range.\n",
      "      \n"
     ]
    }
   ],
   "source": [
    "print(\"\"\"\n",
    "      I have executed the query, but it returned an empty result. \n",
    "      This could be due to the specific account_id or date range not existing in the database.\n",
    "      Please provide me with a valid account_id and date range so I can rerun the query \n",
    "      and retrieve the total expenses for that account within the specified date range.\n",
    "      \"\"\")"
   ]
  },
  {
   "cell_type": "code",
   "execution_count": null,
   "metadata": {},
   "outputs": [],
   "source": []
  },
  {
   "cell_type": "code",
   "execution_count": null,
   "metadata": {},
   "outputs": [],
   "source": []
  }
 ],
 "metadata": {
  "kernelspec": {
   "display_name": ".venv",
   "language": "python",
   "name": "python3"
  },
  "language_info": {
   "codemirror_mode": {
    "name": "ipython",
    "version": 3
   },
   "file_extension": ".py",
   "mimetype": "text/x-python",
   "name": "python",
   "nbconvert_exporter": "python",
   "pygments_lexer": "ipython3",
   "version": "3.11.0"
  }
 },
 "nbformat": 4,
 "nbformat_minor": 2
}
